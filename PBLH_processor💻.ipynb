{
  "nbformat": 4,
  "nbformat_minor": 0,
  "metadata": {
    "colab": {
      "name": "PBLH_processor💻.ipynb",
      "provenance": [],
      "collapsed_sections": [],
      "authorship_tag": "ABX9TyPiPNo8Bc15CztkmrDil05g",
      "include_colab_link": true
    },
    "kernelspec": {
      "name": "python3",
      "display_name": "Python 3"
    },
    "language_info": {
      "name": "python"
    }
  },
  "cells": [
    {
      "cell_type": "markdown",
      "metadata": {
        "id": "view-in-github",
        "colab_type": "text"
      },
      "source": [
        "<a href=\"https://colab.research.google.com/github/1kaiser/PlanetaryBoundaryLayerProcessor/blob/main/PBLH_processor%F0%9F%92%BB.ipynb\" target=\"_parent\"><img src=\"https://colab.research.google.com/assets/colab-badge.svg\" alt=\"Open In Colab\"/></a>"
      ]
    },
    {
      "cell_type": "code",
      "execution_count": 1,
      "metadata": {
        "colab": {
          "base_uri": "https://localhost:8080/"
        },
        "id": "7pD9fa81ZyfQ",
        "outputId": "3b830660-66aa-48da-9e2c-292aee44e875"
      },
      "outputs": [
        {
          "output_type": "stream",
          "name": "stdout",
          "text": [
            "Cloning into 'PlanetaryBoundaryLayerProcessor'...\n",
            "remote: Enumerating objects: 13, done.\u001b[K\n",
            "remote: Counting objects: 100% (13/13), done.\u001b[K\n",
            "remote: Compressing objects: 100% (9/9), done.\u001b[K\n",
            "remote: Total 13 (delta 4), reused 13 (delta 4), pack-reused 0\u001b[K\n",
            "Unpacking objects: 100% (13/13), done.\n"
          ]
        }
      ],
      "source": [
        "!git clone https://github.com/1kaiser/PlanetaryBoundaryLayerProcessor.git"
      ]
    },
    {
      "cell_type": "code",
      "source": [
        "%cd /content/PlanetaryBoundaryLayerProcessor"
      ],
      "metadata": {
        "colab": {
          "base_uri": "https://localhost:8080/"
        },
        "id": "JxjO5ijYh6T0",
        "outputId": "d3d1174c-db6c-40e5-c7e8-e9e59862790f"
      },
      "execution_count": 2,
      "outputs": [
        {
          "output_type": "stream",
          "name": "stdout",
          "text": [
            "/content/PlanetaryBoundaryLayerProcessor\n"
          ]
        }
      ]
    },
    {
      "cell_type": "markdown",
      "source": [
        "# Process to download"
      ],
      "metadata": {
        "id": "4pKQQP2NkJOW"
      }
    },
    {
      "cell_type": "code",
      "execution_count": null,
      "metadata": {
        "id": "zuJz9O9dOGSb",
        "colab": {
          "base_uri": "https://localhost:8080/"
        },
        "outputId": "2925c12d-ed9e-400b-b71a-8500f65f2693"
      },
      "outputs": [
        {
          "output_type": "stream",
          "name": "stdout",
          "text": [
            "\u001b[K\u001b[?25h/tools/node/bin/npm -> /tools/node/lib/node_modules/npm/bin/npm-cli.js\n",
            "/tools/node/bin/npx -> /tools/node/lib/node_modules/npm/bin/npx-cli.js\n",
            "\u001b[K\u001b[?25h+ npm@8.6.0\n",
            "added 58 packages from 18 contributors, removed 292 packages and updated 142 packages in 8.133s\n",
            "\u001b[K\u001b[?25h\n",
            "added 61 packages, and audited 62 packages in 15s\n",
            "\n",
            "8 packages are looking for funding\n",
            "  run `npm fund` for details\n",
            "\n",
            "found \u001b[32m\u001b[1m0\u001b[22m\u001b[39m vulnerabilities\n",
            "Get:1 https://cloud.r-project.org/bin/linux/ubuntu bionic-cran40/ InRelease [3,626 B]\n",
            "Ign:2 https://developer.download.nvidia.com/compute/cuda/repos/ubuntu1804/x86_64  InRelease\n",
            "Ign:3 https://developer.download.nvidia.com/compute/machine-learning/repos/ubuntu1804/x86_64  InRelease\n",
            "Get:4 https://developer.download.nvidia.com/compute/cuda/repos/ubuntu1804/x86_64  Release [696 B]\n",
            "Hit:5 https://developer.download.nvidia.com/compute/machine-learning/repos/ubuntu1804/x86_64  Release\n",
            "Get:6 https://developer.download.nvidia.com/compute/cuda/repos/ubuntu1804/x86_64  Release.gpg [836 B]\n",
            "Hit:7 http://archive.ubuntu.com/ubuntu bionic InRelease\n",
            "Get:8 http://ppa.launchpad.net/c2d4u.team/c2d4u4.0+/ubuntu bionic InRelease [15.9 kB]\n",
            "Get:9 http://security.ubuntu.com/ubuntu bionic-security InRelease [88.7 kB]\n",
            "Get:10 http://archive.ubuntu.com/ubuntu bionic-updates InRelease [88.7 kB]\n",
            "Get:11 https://cloud.r-project.org/bin/linux/ubuntu bionic-cran40/ Packages [82.3 kB]\n",
            "Get:12 http://archive.ubuntu.com/ubuntu bionic-backports InRelease [74.6 kB]\n",
            "Hit:14 http://ppa.launchpad.net/cran/libgit2/ubuntu bionic InRelease\n",
            "Get:15 https://developer.download.nvidia.com/compute/cuda/repos/ubuntu1804/x86_64  Packages [951 kB]\n",
            "Get:16 http://ppa.launchpad.net/deadsnakes/ppa/ubuntu bionic InRelease [15.9 kB]\n",
            "Get:17 http://ppa.launchpad.net/graphics-drivers/ppa/ubuntu bionic InRelease [21.3 kB]\n",
            "Get:18 http://archive.ubuntu.com/ubuntu bionic-updates/universe amd64 Packages [2,267 kB]\n",
            "Get:19 http://ppa.launchpad.net/c2d4u.team/c2d4u4.0+/ubuntu bionic/main Sources [1,831 kB]\n",
            "Get:20 http://archive.ubuntu.com/ubuntu bionic-updates/main amd64 Packages [3,133 kB]\n",
            "Get:21 http://archive.ubuntu.com/ubuntu bionic-updates/multiverse amd64 Packages [29.8 kB]\n",
            "Get:22 http://archive.ubuntu.com/ubuntu bionic-updates/restricted amd64 Packages [918 kB]\n",
            "Get:23 http://archive.ubuntu.com/ubuntu bionic-backports/main amd64 Packages [12.2 kB]\n",
            "Get:24 http://archive.ubuntu.com/ubuntu bionic-backports/universe amd64 Packages [12.9 kB]\n",
            "Get:25 http://security.ubuntu.com/ubuntu bionic-security/universe amd64 Packages [1,489 kB]\n",
            "Get:26 http://ppa.launchpad.net/c2d4u.team/c2d4u4.0+/ubuntu bionic/main amd64 Packages [938 kB]\n",
            "Get:27 http://security.ubuntu.com/ubuntu bionic-security/main amd64 Packages [2,693 kB]\n",
            "Get:28 http://security.ubuntu.com/ubuntu bionic-security/restricted amd64 Packages [884 kB]\n",
            "Get:29 http://ppa.launchpad.net/deadsnakes/ppa/ubuntu bionic/main amd64 Packages [45.3 kB]\n",
            "99% [29 Packages 0 B/45.3 kB 0%]"
          ]
        }
      ],
      "source": [
        "!npm install -g npm\n",
        "!npm install puppeteer turndown bluebird\n",
        "!apt-get update\n",
        "!apt install chromium-chromedriver"
      ]
    },
    {
      "cell_type": "code",
      "execution_count": null,
      "metadata": {
        "id": "eu_gUfwDAuN5"
      },
      "outputs": [],
      "source": [
        "%%writefile index.js\n",
        "\n",
        "'use strict';\n",
        "\n",
        "const puppeteer = require('puppeteer');\n",
        "const fs = require('fs');\n",
        "var TurndownService = require('turndown');\n",
        "const bluebird = require(\"bluebird\");\n",
        "\n",
        "\n",
        "(async() => {\n",
        "  const browser = await puppeteer.launch({executablePath:\"/usr/lib/chromium-browser/chromium-browser\", args:['--no-sandbox']});\n",
        "  //console.log(golinks)\n",
        "    // console.log(golinks[0][\"Link\"], golinks[0][\"Title\"])\n",
        "    let file = '\\out.txt'\n",
        "    if (!fs.existsSync(file)) {\n",
        "        fs.writeFileSync(file, '', function (err) {\n",
        "            if (err)\n",
        "                console.log(err);\n",
        "        });\n",
        "    }\n",
        "    var darray = fs.readFileSync('2021DD.txt', 'utf8').split('\\n');\n",
        "    let file1 = \"MD\"\n",
        "    if (!fs.existsSync(file1)) {\n",
        "        fs.mkdirSync(file1, function (err) {\n",
        "            if (err)\n",
        "                console.log(err);\n",
        "        });\n",
        "    }\n",
        "    let withPage = (browser) => async (fn) => {\n",
        "        const page = await browser.newPage();\n",
        "        try {\n",
        "            return await fn(page);\n",
        "        } catch (err) {\n",
        "            console.error(err.message);\n",
        "            await page.close();\n",
        "            return false;\n",
        "        } finally {\n",
        "            await page.close();\n",
        "        }\n",
        "    }\n",
        "    const urls = [];\n",
        "    const titles = [];\n",
        "    for (let index = 0; index < darray.length; index++) {\n",
        "        urls.push(darray[index].split('\\,')[4]);\n",
        "        titles.push(darray[index].split('\\,')[5].replace('\\r',''));\n",
        "    }\n",
        "    var darray = fs.readFileSync('\\out.txt', 'utf8').split('\\n');\n",
        "    let count = 0\n",
        "    bluebird.map(urls, async (url) => {\n",
        "        if (!darray.join().includes(url)) {\n",
        "            return withPage(browser)(async (page) => {\n",
        "                await page._client.send(\"Page.setDownloadBehavior\", {\n",
        "                    behavior: \"allow\",\n",
        "                    downloadPath: file1,\n",
        "                });\n",
        "                let completed = []\n",
        "                let data = false;\n",
        "                let attempts = 0;\n",
        "                let viewSource\n",
        "                while (data == false && attempts < 2) {\n",
        "                    viewSource = await page.goto(url, {\n",
        "                        waitUntil: \"networkidle0\",\n",
        "                    });\n",
        "                    data = await page.content();\n",
        "                    attempts += 1;\n",
        "                    if (data != false) {\n",
        "                        fs.writeFile(`MD/${titles[urls.indexOf(url)]}`, await viewSource.buffer(), function(err) {\n",
        "                            if(err) {\n",
        "                                return console.log(err);\n",
        "                            }\n",
        "                        \n",
        "                            console.log(\"The file was saved!\");\n",
        "                        });\n",
        "                        completed.push(url.concat('\\n'))\n",
        "                        fs.appendFileSync('out.txt', completed.toString())\n",
        "                        // console.log(titles[urls.indexOf(url)])\n",
        "                    }\n",
        "                }\n",
        "                console.log(urls.length - darray.length - count++, \" <<remaining of \", urls.length - darray.length, \"with overall links\", darray.length + urls.length)\n",
        "            }).then((r) => ({\n",
        "                result: r\n",
        "            }), (e) => ({\n",
        "                error: e\n",
        "            }));\n",
        "        }\n",
        "    }, {\n",
        "        concurrency: 7 //<< increase to go parallel tabs using bluebird library\n",
        "    });\n",
        "\n",
        "})()\n"
      ]
    },
    {
      "cell_type": "code",
      "execution_count": null,
      "metadata": {
        "id": "cbkTsI0XBA8K"
      },
      "outputs": [],
      "source": [
        "!node index.js"
      ]
    },
    {
      "cell_type": "markdown",
      "source": [
        "#zipping"
      ],
      "metadata": {
        "id": "faPmbISiKfI4"
      }
    },
    {
      "cell_type": "code",
      "source": [
        "!zip -r /content/20220313.zip /content/Positive/MD /content/Positive/out.txt"
      ],
      "metadata": {
        "id": "HULkNOGQKeHr"
      },
      "execution_count": null,
      "outputs": []
    }
  ]
}